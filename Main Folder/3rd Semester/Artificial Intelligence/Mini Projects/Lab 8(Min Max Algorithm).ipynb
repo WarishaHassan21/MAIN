{
 "cells": [
  {
   "cell_type": "code",
   "execution_count": 4,
   "id": "c6c3dcb2-0384-4a72-ae4b-c4f1c37991d2",
   "metadata": {},
   "outputs": [
    {
     "name": "stdout",
     "output_type": "stream",
     "text": [
      "5\n"
     ]
    }
   ],
   "source": [
    "import math\n",
    "def minimax(depth, index, max_turn,scores,target):\n",
    "    if depth == target:\n",
    "        return scores[index]\n",
    "    if max_turn:\n",
    "        return max(minimax (depth + 1, index * 2, False,scores, target),\n",
    "                   minimax(depth + 1, index * 2 + 1, False, scores, target))\n",
    "    else:\n",
    "        return min(minimax (depth + 1, index * 2, True, scores, target),\n",
    "                  minimax(depth + 1, index * 2 +1, True, scores, target))\n",
    "scores=[2,5, 6, 8, 9, 5, 3, 1]\n",
    "tree= math.log(len(scores), 2)\n",
    "print(minimax(0,0, True, scores, tree ))\n",
    "        "
   ]
  },
  {
   "cell_type": "code",
   "execution_count": null,
   "id": "8dcab505-3b0f-4473-9dcd-99e4b2d5fe3c",
   "metadata": {},
   "outputs": [],
   "source": []
  }
 ],
 "metadata": {
  "kernelspec": {
   "display_name": "Python 3 (ipykernel)",
   "language": "python",
   "name": "python3"
  },
  "language_info": {
   "codemirror_mode": {
    "name": "ipython",
    "version": 3
   },
   "file_extension": ".py",
   "mimetype": "text/x-python",
   "name": "python",
   "nbconvert_exporter": "python",
   "pygments_lexer": "ipython3",
   "version": "3.12.4"
  }
 },
 "nbformat": 4,
 "nbformat_minor": 5
}
