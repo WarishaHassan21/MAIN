{
 "cells": [
  {
   "cell_type": "code",
   "execution_count": 10,
   "id": "f0f76ac9-8012-454d-9bc8-c0e0a6d413b2",
   "metadata": {},
   "outputs": [],
   "source": [
    "class ModalBasedReflexAgent:\n",
    "    def __init__(self,desired_temp):\n",
    "        self.desired_temp=temp\n",
    "        self.knowledge_base={}\n",
    "\n",
    "    def precept(self,room,temp):\n",
    "        self.knowledge_base[room]=temp\n",
    "        self.current_temp=temp\n",
    "        self.current_room=room\n",
    "    def actuator(self):\n",
    "        if self.current_temp > self.desired_temp:\n",
    "            return \"Turn of the heater.\"\n",
    "        else:\n",
    "            return \"Turn on the heater.\"\n",
    "    def get_knowledge(self):\n",
    "        return self.knowledge_base\n",
    "Agent=ModalBasedReflexAgent(22)"
   ]
  },
  {
   "cell_type": "code",
   "execution_count": 11,
   "id": "d1c5106b-ff6e-434c-803a-97bd376a116b",
   "metadata": {},
   "outputs": [],
   "source": [
    "rooms={\n",
    "    \"Living Room\" : 28,\n",
    "    \"Bedroom\" : 18,\n",
    "    \"Kitchen\" : 32\n",
    "}"
   ]
  },
  {
   "cell_type": "code",
   "execution_count": 14,
   "id": "5e73f449-b3bb-4f81-b2b6-08cd8169931d",
   "metadata": {},
   "outputs": [
    {
     "name": "stdout",
     "output_type": "stream",
     "text": [
      "Living Room:  28 Turn on the heater.\n",
      "Bedroom:  18 Turn on the heater.\n",
      "Kitchen:  32 Turn on the heater.\n",
      "Knowledge Base: {'Living Room': 28, 'Bedroom': 18, 'Kitchen': 32}\n"
     ]
    }
   ],
   "source": [
    "for room, temp in rooms.items():\n",
    "    Agent.precept(room,temp)\n",
    "    print(f\"{room}:  {temp} {Agent.actuator()}\")\n",
    "print(\"Knowledge Base:\",Agent.get_knowledge())"
   ]
  },
  {
   "cell_type": "code",
   "execution_count": null,
   "id": "e3ab7098-c55b-44a5-8eda-de5acc958f22",
   "metadata": {},
   "outputs": [],
   "source": []
  }
 ],
 "metadata": {
  "kernelspec": {
   "display_name": "Python 3 (ipykernel)",
   "language": "python",
   "name": "python3"
  },
  "language_info": {
   "codemirror_mode": {
    "name": "ipython",
    "version": 3
   },
   "file_extension": ".py",
   "mimetype": "text/x-python",
   "name": "python",
   "nbconvert_exporter": "python",
   "pygments_lexer": "ipython3",
   "version": "3.12.4"
  }
 },
 "nbformat": 4,
 "nbformat_minor": 5
}
