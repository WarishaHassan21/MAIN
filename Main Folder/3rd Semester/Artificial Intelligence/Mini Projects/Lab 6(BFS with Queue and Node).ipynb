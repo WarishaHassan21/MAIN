{
 "cells": [
  {
   "cell_type": "code",
   "execution_count": 28,
   "id": "63696506-7a4b-43c7-927b-1237451cd7eb",
   "metadata": {},
   "outputs": [],
   "source": [
    "tree={\n",
    "    'A':['B','C'],\n",
    "    'B':['D','E'],\n",
    "    'C':['F','G'],\n",
    "    'D':['H','I'],\n",
    "    'E':['J''K'],\n",
    "    'F':[],\n",
    "    'G':[],\n",
    "    'H':[],\n",
    "    'I':[],\n",
    "    'J':[],\n",
    "    'K':[]\n",
    "}"
   ]
  },
  {
   "cell_type": "code",
   "execution_count": 29,
   "id": "5d349972-2df9-4632-8d39-14c67a40f50d",
   "metadata": {},
   "outputs": [],
   "source": [
    "visited=[]\n",
    "queue=[]"
   ]
  },
  {
   "cell_type": "code",
   "execution_count": 30,
   "id": "f726cb40-7491-4fec-8ad1-540b20d39819",
   "metadata": {},
   "outputs": [
    {
     "name": "stdout",
     "output_type": "stream",
     "text": [
      "Queue: ['D']\n",
      "Visited: D\n",
      "Queue: ['H', 'I']\n",
      "Visited: H\n",
      "Queue: ['I']\n",
      "Visited: I\n",
      "Visited Nodes: ['D', 'H', 'I']\n"
     ]
    }
   ],
   "source": [
    "def BFS(start_node):\n",
    "    queue.append(start_node)\n",
    "    while queue:\n",
    "        print(f\"Queue: {queue}\")\n",
    "        node= queue.pop(0)\n",
    "        if node not in visited:\n",
    "            visited.append(node)\n",
    "            print(f\"Visited: {node}\")\n",
    "            for neighbor in tree[node]:\n",
    "                queue.append(neighbor)\n",
    "BFS('D')\n",
    "print(\"Visited Nodes:\",visited)"
   ]
  },
  {
   "cell_type": "code",
   "execution_count": null,
   "id": "e1be8ae2-ed2b-4f3c-b21c-f0a65c0b961c",
   "metadata": {},
   "outputs": [],
   "source": []
  }
 ],
 "metadata": {
  "kernelspec": {
   "display_name": "Python 3 (ipykernel)",
   "language": "python",
   "name": "python3"
  },
  "language_info": {
   "codemirror_mode": {
    "name": "ipython",
    "version": 3
   },
   "file_extension": ".py",
   "mimetype": "text/x-python",
   "name": "python",
   "nbconvert_exporter": "python",
   "pygments_lexer": "ipython3",
   "version": "3.12.4"
  }
 },
 "nbformat": 4,
 "nbformat_minor": 5
}
