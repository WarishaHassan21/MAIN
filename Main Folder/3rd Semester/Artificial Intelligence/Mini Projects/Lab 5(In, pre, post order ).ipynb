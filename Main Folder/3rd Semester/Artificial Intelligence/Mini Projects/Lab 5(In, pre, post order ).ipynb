{
 "cells": [
  {
   "cell_type": "code",
   "execution_count": 30,
   "id": "edb502fe-7407-4678-9c4f-b4b66d3c1663",
   "metadata": {},
   "outputs": [],
   "source": [
    "#Task 02 (Research about \"Inorder, Preorder, Postorder\" and implement in DFS)"
   ]
  },
  {
   "cell_type": "code",
   "execution_count": 31,
   "id": "bf8a20c9-39cf-48c5-be4f-ebfe72952232",
   "metadata": {},
   "outputs": [],
   "source": [
    "class Node:\n",
    "    def __init__(self, data):\n",
    "        self.data = data\n",
    "        self.left= None\n",
    "        self.right = None"
   ]
  },
  {
   "cell_type": "code",
   "execution_count": 32,
   "id": "6fdb458e-e2e2-4879-bf2e-69a8de2ed3fe",
   "metadata": {},
   "outputs": [],
   "source": [
    "# Preorder -->(Root, Left, Right)"
   ]
  },
  {
   "cell_type": "code",
   "execution_count": 33,
   "id": "a241d29e-e95a-4b6c-a9c6-3334cf6c7013",
   "metadata": {},
   "outputs": [],
   "source": [
    "def Pre_order(root):\n",
    "    if root:\n",
    "        print(root.data, end=' ')\n",
    "        Pre_order(root.left)\n",
    "        Pre_order(root.right)"
   ]
  },
  {
   "cell_type": "code",
   "execution_count": 34,
   "id": "eaacf5e7-5b70-4a47-9a69-ab5cb621ee73",
   "metadata": {},
   "outputs": [],
   "source": [
    "# Inorder -->(Left, Root, Right)"
   ]
  },
  {
   "cell_type": "code",
   "execution_count": 35,
   "id": "ff74bcc7-bf6c-4f59-89dc-c9b7276e4698",
   "metadata": {},
   "outputs": [],
   "source": [
    "def In_order(root):\n",
    "    if root:\n",
    "        In_order(root.left)\n",
    "        print(root.data, end=' ')\n",
    "        In_order(root.right)"
   ]
  },
  {
   "cell_type": "code",
   "execution_count": 36,
   "id": "4b9e3ae9-2a97-41b7-a11a-ab27daa6d87b",
   "metadata": {},
   "outputs": [],
   "source": [
    "# Postorder  -->(Left, Right, Root)"
   ]
  },
  {
   "cell_type": "code",
   "execution_count": 37,
   "id": "42f27faf-7fdf-4a1a-8935-805b03f5a7a3",
   "metadata": {},
   "outputs": [],
   "source": [
    "def Post_order(root):\n",
    "    if root:\n",
    "        Post_order(root.left)\n",
    "        Post_order(root.right)\n",
    "        print(root.data, end=' ')"
   ]
  },
  {
   "cell_type": "code",
   "execution_count": 38,
   "id": "340a4a8a-1f36-4ad2-b958-82f30a5e3b00",
   "metadata": {},
   "outputs": [],
   "source": [
    "# Instance"
   ]
  },
  {
   "cell_type": "code",
   "execution_count": 39,
   "id": "270bc792-38c6-4f60-8b49-7b474612fd3f",
   "metadata": {},
   "outputs": [
    {
     "name": "stdout",
     "output_type": "stream",
     "text": [
      "Pre Order Inplementation: \n",
      "A B D E C F G \n",
      "\n",
      "In Order Implementation: \n",
      "D B E A F C G \n",
      "\n",
      "Post Order Implementation: \n",
      "D E B F G C A "
     ]
    }
   ],
   "source": [
    "root=Node('A')\n",
    "root.left=Node('B')\n",
    "root.right=Node('C')\n",
    "root.left.left=Node('D')\n",
    "root.left.right=Node('E')\n",
    "root.right.left=Node('F')\n",
    "root.right.right=Node('G')\n",
    "print(\"Pre Order Inplementation: \")\n",
    "Pre_order(root)\n",
    "print('\\n')\n",
    "print('In Order Implementation: ')\n",
    "In_order(root)\n",
    "print('\\n')\n",
    "print('Post Order Implementation: ')\n",
    "Post_order(root)"
   ]
  },
  {
   "cell_type": "code",
   "execution_count": null,
   "id": "8444a35d-8981-428d-85b3-3fd5d445cc90",
   "metadata": {},
   "outputs": [],
   "source": []
  }
 ],
 "metadata": {
  "kernelspec": {
   "display_name": "Python 3 (ipykernel)",
   "language": "python",
   "name": "python3"
  },
  "language_info": {
   "codemirror_mode": {
    "name": "ipython",
    "version": 3
   },
   "file_extension": ".py",
   "mimetype": "text/x-python",
   "name": "python",
   "nbconvert_exporter": "python",
   "pygments_lexer": "ipython3",
   "version": "3.12.4"
  }
 },
 "nbformat": 4,
 "nbformat_minor": 5
}
