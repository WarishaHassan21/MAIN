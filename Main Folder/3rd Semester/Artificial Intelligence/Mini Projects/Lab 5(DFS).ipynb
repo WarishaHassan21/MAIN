{
 "cells": [
  {
   "cell_type": "code",
   "execution_count": 16,
   "id": "dff93cbf-54a9-4f94-bae0-897ff4ff7ba9",
   "metadata": {},
   "outputs": [
    {
     "name": "stdout",
     "output_type": "stream",
     "text": [
      "Stack: ['A']\n",
      "Visited: A\n",
      "Stack: ['B', 'C']\n",
      "Visited: C\n",
      "Stack: ['B', 'F', 'G']\n",
      "Visited: G\n",
      "Stack: ['B', 'F']\n",
      "Visited: F\n",
      "Stack: ['B']\n",
      "Visited: B\n",
      "Stack: ['D', 'E']\n",
      "Visited: E\n",
      "Stack: ['D']\n",
      "Visited: D\n",
      "Visited Nodes: ['A', 'C', 'G', 'F', 'B', 'E', 'D']\n"
     ]
    }
   ],
   "source": [
    "#Task 01\n",
    "tree={\n",
    "    'A':['B','C'],\n",
    "    'B':['D','E'],\n",
    "    'C':['F','G'],\n",
    "    'D':[],\n",
    "    'E':[],\n",
    "    'F':[],\n",
    "    'G':[]\n",
    "}\n",
    "visited=[]\n",
    "stack=[]\n",
    "def DFS(start_node):\n",
    "    stack.append(start_node)\n",
    "    while stack:\n",
    "        print(f\"Stack: {stack}\")\n",
    "        node = stack.pop()\n",
    "        if node not in visited:\n",
    "            visited.append(node)\n",
    "            print(f\"Visited: {node}\")\n",
    "            for neighbour in tree[node]:\n",
    "                stack.append(neighbour)\n",
    "DFS('A')\n",
    "print(\"Visited Nodes:\", visited)"
   ]
  },
  {
   "cell_type": "code",
   "execution_count": null,
   "id": "27b874d7-ca25-4a69-9b56-7fe98b76b687",
   "metadata": {},
   "outputs": [],
   "source": []
  }
 ],
 "metadata": {
  "kernelspec": {
   "display_name": "Python 3 (ipykernel)",
   "language": "python",
   "name": "python3"
  },
  "language_info": {
   "codemirror_mode": {
    "name": "ipython",
    "version": 3
   },
   "file_extension": ".py",
   "mimetype": "text/x-python",
   "name": "python",
   "nbconvert_exporter": "python",
   "pygments_lexer": "ipython3",
   "version": "3.12.4"
  }
 },
 "nbformat": 4,
 "nbformat_minor": 5
}
