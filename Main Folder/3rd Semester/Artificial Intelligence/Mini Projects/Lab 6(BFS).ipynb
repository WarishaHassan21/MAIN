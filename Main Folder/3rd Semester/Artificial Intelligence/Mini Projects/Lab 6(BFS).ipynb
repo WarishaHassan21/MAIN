{
 "cells": [
  {
   "cell_type": "code",
   "execution_count": 10,
   "id": "1b1b4370-7126-4967-ac21-6a4914c07a24",
   "metadata": {},
   "outputs": [],
   "source": [
    "tree={\n",
    "    'A':['B','C'],\n",
    "    'B':['F','G'],\n",
    "    'C':['D','E'],\n",
    "    'D':[],\n",
    "    'E':[],\n",
    "    'F':[],\n",
    "    'G':[],\n",
    "}"
   ]
  },
  {
   "cell_type": "code",
   "execution_count": 18,
   "id": "f787dc2a-5fbf-4843-8570-4a1ee4dde6dc",
   "metadata": {},
   "outputs": [
    {
     "name": "stdout",
     "output_type": "stream",
     "text": [
      "A\n",
      "B\n",
      "C\n",
      "F\n",
      "G\n",
      "D\n",
      "E\n",
      "Visited Nodes: {'C', 'E', 'F', 'G', 'A', 'D', 'B'}\n"
     ]
    }
   ],
   "source": [
    "visited = set()\n",
    "def BFS(start):\n",
    "    current_level=[start]\n",
    "    while current_level:\n",
    "        next_level=[]\n",
    "        for node in current_level:\n",
    "            if node not in visited:\n",
    "                visited.add(node)\n",
    "                print(node)\n",
    "                for neighbor in tree[node]:\n",
    "                    if neighbor not in visited:\n",
    "                        next_level.append(neighbor)\n",
    "        current_level = next_level\n",
    "\n",
    "BFS('A')\n",
    "print(\"Visited Nodes:\", visited)"
   ]
  },
  {
   "cell_type": "code",
   "execution_count": 17,
   "id": "15f84f9a-9b87-465a-9c39-702e014a1f73",
   "metadata": {},
   "outputs": [
    {
     "name": "stdout",
     "output_type": "stream",
     "text": [
      "A\n",
      "B\n",
      "C\n",
      "F\n",
      "G\n",
      "D\n",
      "E\n",
      "Visited Nodes: ['A', 'B', 'C', 'F', 'G', 'D', 'E']\n"
     ]
    }
   ],
   "source": [
    "visited = []\n",
    "def BFS(start):\n",
    "    current_level=[start]\n",
    "    while current_level:\n",
    "        next_level=[]\n",
    "        for node in current_level:\n",
    "            if node not in visited:\n",
    "                visited.append(node)\n",
    "                print(node)\n",
    "                for neighbor in tree[node]:\n",
    "                    if neighbor not in visited:\n",
    "                        next_level.append(neighbor)\n",
    "        current_level = next_level\n",
    "\n",
    "BFS('A')\n",
    "print(\"Visited Nodes:\", visited)"
   ]
  },
  {
   "cell_type": "code",
   "execution_count": null,
   "id": "01ae2bbf-f693-4d25-99e9-595099da3939",
   "metadata": {},
   "outputs": [],
   "source": []
  }
 ],
 "metadata": {
  "kernelspec": {
   "display_name": "Python 3 (ipykernel)",
   "language": "python",
   "name": "python3"
  },
  "language_info": {
   "codemirror_mode": {
    "name": "ipython",
    "version": 3
   },
   "file_extension": ".py",
   "mimetype": "text/x-python",
   "name": "python",
   "nbconvert_exporter": "python",
   "pygments_lexer": "ipython3",
   "version": "3.12.4"
  }
 },
 "nbformat": 4,
 "nbformat_minor": 5
}
