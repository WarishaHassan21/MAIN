{
 "cells": [
  {
   "cell_type": "code",
   "execution_count": 7,
   "id": "d4d9bdaa-b911-4149-8302-a2ed06029e86",
   "metadata": {},
   "outputs": [],
   "source": [
    "list=['Warisha','Hassan','abc','xyz','123']"
   ]
  },
  {
   "cell_type": "code",
   "execution_count": 8,
   "id": "c305cb37-645a-4d48-a96b-1cfc6528938b",
   "metadata": {},
   "outputs": [
    {
     "name": "stdout",
     "output_type": "stream",
     "text": [
      "['123', 'Hassan', 'Warisha', 'abc', 'xyz']\n"
     ]
    }
   ],
   "source": [
    "for i in range(1,len(list)):\n",
    "    current=list[i]\n",
    "    pos=i\n",
    "    while current<list[pos-1] and pos>0:\n",
    "        list[pos]=list[pos-1]\n",
    "        pos=pos-1\n",
    "    list[pos]=current\n",
    "print(list)"
   ]
  },
  {
   "cell_type": "code",
   "execution_count": null,
   "id": "5dd4941c-a75a-4b7e-bdce-dc97ef09b5ce",
   "metadata": {},
   "outputs": [],
   "source": []
  }
 ],
 "metadata": {
  "kernelspec": {
   "display_name": "Python 3 (ipykernel)",
   "language": "python",
   "name": "python3"
  },
  "language_info": {
   "codemirror_mode": {
    "name": "ipython",
    "version": 3
   },
   "file_extension": ".py",
   "mimetype": "text/x-python",
   "name": "python",
   "nbconvert_exporter": "python",
   "pygments_lexer": "ipython3",
   "version": "3.12.4"
  }
 },
 "nbformat": 4,
 "nbformat_minor": 5
}
