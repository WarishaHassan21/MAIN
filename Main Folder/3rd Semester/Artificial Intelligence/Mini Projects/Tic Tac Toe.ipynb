{
 "cells": [
  {
   "cell_type": "code",
   "execution_count": 7,
   "id": "9019663f-17ad-44a4-9ad2-81fe8400eb57",
   "metadata": {},
   "outputs": [],
   "source": [
    "import numpy as np "
   ]
  },
  {
   "cell_type": "code",
   "execution_count": 20,
   "id": "0bf98161-9507-403b-848a-f26c8b3f9707",
   "metadata": {},
   "outputs": [],
   "source": [
    "def print_board(board):\n",
    "    for row in board:\n",
    "        print(\" | \".join(row))\n",
    "        print(\"-\"*(len(row)*4-3))\n",
    "        "
   ]
  },
  {
   "cell_type": "code",
   "execution_count": 21,
   "id": "0f0b9698-551e-42d6-9e6a-d5ad2c8d2e6c",
   "metadata": {},
   "outputs": [],
   "source": [
    "def check_winner(board,player):\n",
    "    for i in range (len(board)):\n",
    "        if all([cell == player for cell in board[i]]):\n",
    "            return True\n",
    "        if all([board[j][i] == player for j in range(len(board))]):\n",
    "            return True\n",
    "    if all ([board[i][i] == player for i in range (len(board))]):\n",
    "        return True\n",
    "    if all ([board[i][len(board)-1-i]== player for i in range(len(board))]):\n",
    "        return True\n",
    "    return False"
   ]
  },
  {
   "cell_type": "code",
   "execution_count": 22,
   "id": "c5eb4d87-d6ba-4849-8932-83ed318ec5f6",
   "metadata": {},
   "outputs": [],
   "source": [
    "def tic_tac_toe():\n",
    "    size+of_board = int(input(\"Enter the board size: \"))\n",
    "    board = np.full((size,size),' ')\n",
    "    players=['X','O']\n",
    "    turn = 0\n",
    "    moves=0\n",
    "    while True:\n",
    "        print_board(board)\n",
    "        current_player=players[turn%2]\n",
    "        row = int(input(f\"Player {current_player}, enter the row(0-{size_of_board-1}): \"))\n",
    "        column = int(input(f\"Player {current_player}, enter the column(0-{size_of_board-1}): \"))\n",
    "        if board[row][column] == ' ':\n",
    "            board[row][column] = current_player\n",
    "            moves+=1\n",
    "            if check_winner(board,current_player):\n",
    "                print_board(board)\n",
    "                print(f\"Player {current_player} wins!\")\n",
    "                break\n",
    "            if moves == size_board*size_of_board:\n",
    "                print_board(board)\n",
    "                print(\"It's a draw!\")\n",
    "                break\n",
    "            turn+=1\n",
    "        else:\n",
    "            print(\"Cell already taken,choose another one.\")\n",
    "        "
   ]
  },
  {
   "cell_type": "code",
   "execution_count": 23,
   "id": "8fca32b1-35ac-4c36-9f56-db32050fc7e9",
   "metadata": {},
   "outputs": [
    {
     "name": "stdin",
     "output_type": "stream",
     "text": [
      "Enter the board size:  3\n"
     ]
    },
    {
     "name": "stdout",
     "output_type": "stream",
     "text": [
      "  |   |  \n",
      "---------\n",
      "  |   |  \n",
      "---------\n",
      "  |   |  \n",
      "---------\n"
     ]
    },
    {
     "name": "stdin",
     "output_type": "stream",
     "text": [
      "Player X, enter the row(0-2):  0\n",
      "Player X, enter the column(0-2):  0\n"
     ]
    },
    {
     "name": "stdout",
     "output_type": "stream",
     "text": [
      "X |   |  \n",
      "---------\n",
      "  |   |  \n",
      "---------\n",
      "  |   |  \n",
      "---------\n"
     ]
    },
    {
     "name": "stdin",
     "output_type": "stream",
     "text": [
      "Player O, enter the row(0-2):  1\n",
      "Player O, enter the column(0-2):  1\n"
     ]
    },
    {
     "name": "stdout",
     "output_type": "stream",
     "text": [
      "X |   |  \n",
      "---------\n",
      "  | O |  \n",
      "---------\n",
      "  |   |  \n",
      "---------\n"
     ]
    },
    {
     "name": "stdin",
     "output_type": "stream",
     "text": [
      "Player X, enter the row(0-2):  2\n",
      "Player X, enter the column(0-2):  2\n"
     ]
    },
    {
     "name": "stdout",
     "output_type": "stream",
     "text": [
      "X |   |  \n",
      "---------\n",
      "  | O |  \n",
      "---------\n",
      "  |   | X\n",
      "---------\n"
     ]
    },
    {
     "name": "stdin",
     "output_type": "stream",
     "text": [
      "Player O, enter the row(0-2):  1\n",
      "Player O, enter the column(0-2):  0\n"
     ]
    },
    {
     "name": "stdout",
     "output_type": "stream",
     "text": [
      "X |   |  \n",
      "---------\n",
      "O | O |  \n",
      "---------\n",
      "  |   | X\n",
      "---------\n"
     ]
    },
    {
     "name": "stdin",
     "output_type": "stream",
     "text": [
      "Player X, enter the row(0-2):  2\n",
      "Player X, enter the column(0-2):  1\n"
     ]
    },
    {
     "name": "stdout",
     "output_type": "stream",
     "text": [
      "X |   |  \n",
      "---------\n",
      "O | O |  \n",
      "---------\n",
      "  | X | X\n",
      "---------\n"
     ]
    },
    {
     "name": "stdin",
     "output_type": "stream",
     "text": [
      "Player O, enter the row(0-2):  1\n",
      "Player O, enter the column(0-2):  2\n"
     ]
    },
    {
     "name": "stdout",
     "output_type": "stream",
     "text": [
      "X |   |  \n",
      "---------\n",
      "O | O | O\n",
      "---------\n",
      "  | X | X\n",
      "---------\n",
      "Player O wins!\n"
     ]
    }
   ],
   "source": [
    "if __name__ == \"__main__\":\n",
    "    tic_tac_toe()"
   ]
  },
  {
   "cell_type": "code",
   "execution_count": null,
   "id": "c35c30ba-3da1-472c-b137-d63a346350c0",
   "metadata": {},
   "outputs": [],
   "source": []
  }
 ],
 "metadata": {
  "kernelspec": {
   "display_name": "Python 3 (ipykernel)",
   "language": "python",
   "name": "python3"
  },
  "language_info": {
   "codemirror_mode": {
    "name": "ipython",
    "version": 3
   },
   "file_extension": ".py",
   "mimetype": "text/x-python",
   "name": "python",
   "nbconvert_exporter": "python",
   "pygments_lexer": "ipython3",
   "version": "3.12.4"
  }
 },
 "nbformat": 4,
 "nbformat_minor": 5
}
