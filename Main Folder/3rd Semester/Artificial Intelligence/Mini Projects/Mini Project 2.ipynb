{
 "cells": [
  {
   "cell_type": "code",
   "execution_count": 3,
   "id": "910367d2-9c79-46a0-866e-a358077997a7",
   "metadata": {},
   "outputs": [
    {
     "name": "stdin",
     "output_type": "stream",
     "text": [
      "How many movies do you want to add? 0\n"
     ]
    },
    {
     "name": "stdout",
     "output_type": "stream",
     "text": [
      "The Average Budget is :190500000.0\n",
      "Pirates of the Caribbean: On Stranger Tides has a higher budget than the average by 188500000.0.\n",
      "Avengers: Age of Ultron has a higher budget than the average by 174500000.0.\n",
      "Avengers: Endgame has a higher budget than the average by 165500000.0.\n",
      "Incredibles 2 has a higher budget than the average by 9500000.0.\n",
      "Total number of movies with budget higher then the average:4 \n"
     ]
    }
   ],
   "source": [
    "movies = [\n",
    "    (\"Eternal Sunshine of the Spotless Mind\", 20000000),\n",
    "    (\"Memento\", 9000000),\n",
    "    (\"Requiem for a Dream\", 4500000),\n",
    "    (\"Pirates of the Caribbean: On Stranger Tides\", 379000000),\n",
    "    (\"Avengers: Age of Ultron\", 365000000),\n",
    "    (\"Avengers: Endgame\", 356000000),\n",
    "    (\"Incredibles 2\", 200000000)\n",
    "]\n",
    "\n",
    "num_of_movies=int(input(\"How many movies do you want to add?\"))\n",
    "\n",
    "for _ in range(num_of_movies):\n",
    "    name=input(\"Enter the movie name: \")\n",
    "    budget=int(input(\"Enter the movie Budget: \"))\n",
    "    movies.append((name,budget))\n",
    "total_budget=sum(budget for _,budget in movies)\n",
    "average_budget=total_budget/len(movies)\n",
    "print(f\"The Average Budget is :{average_budget}\")\n",
    "\n",
    "high_budget_movies=[]\n",
    "for name,budget in movies:\n",
    "    if budget > average_budget:\n",
    "        difference = budget-average_budget\n",
    "        high_budget_movies.append((name,budget,difference))\n",
    "        print(f\"{name} has a higher budget than the average by {difference}.\")\n",
    "print(f\"Total number of movies with budget higher then the average:{len(high_budget_movies)} \")"
   ]
  },
  {
   "cell_type": "code",
   "execution_count": null,
   "id": "bf3afa44-546e-40c9-a754-68b0900002de",
   "metadata": {},
   "outputs": [],
   "source": []
  }
 ],
 "metadata": {
  "kernelspec": {
   "display_name": "Python 3 (ipykernel)",
   "language": "python",
   "name": "python3"
  },
  "language_info": {
   "codemirror_mode": {
    "name": "ipython",
    "version": 3
   },
   "file_extension": ".py",
   "mimetype": "text/x-python",
   "name": "python",
   "nbconvert_exporter": "python",
   "pygments_lexer": "ipython3",
   "version": "3.12.4"
  }
 },
 "nbformat": 4,
 "nbformat_minor": 5
}
