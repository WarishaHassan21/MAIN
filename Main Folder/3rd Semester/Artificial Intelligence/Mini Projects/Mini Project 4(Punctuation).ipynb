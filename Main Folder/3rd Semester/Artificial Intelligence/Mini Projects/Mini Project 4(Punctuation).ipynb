{
 "cells": [
  {
   "cell_type": "code",
   "execution_count": 3,
   "id": "001c6477-ace3-45b5-8d64-782f1ab4dfa2",
   "metadata": {},
   "outputs": [
    {
     "name": "stderr",
     "output_type": "stream",
     "text": [
      "<>:1: SyntaxWarning: invalid escape sequence '\\,'\n",
      "<>:1: SyntaxWarning: invalid escape sequence '\\,'\n",
      "C:\\Users\\DELL\\AppData\\Local\\Temp\\ipykernel_17020\\702722874.py:1: SyntaxWarning: invalid escape sequence '\\,'\n",
      "  punc=''' !()-[]{}:;'\"\\,<>./?@#$%^&*~`_'''\n"
     ]
    },
    {
     "name": "stdin",
     "output_type": "stream",
     "text": [
      "Enter a string:  hello<>?*&^%()_\n"
     ]
    },
    {
     "name": "stdout",
     "output_type": "stream",
     "text": [
      " hello\n"
     ]
    }
   ],
   "source": [
    "punc=''' !()-[]{}:;'\"\\,<>./?@#$%^&*~`_'''\n",
    "\n",
    "user_input=input(\"Enter a string: \")\n",
    "\n",
    "empty_str=\" \"\n",
    "\n",
    "for i in user_input:\n",
    "    if i not in punc:\n",
    "        empty_str+=i\n",
    "print(empty_str)"
   ]
  }
 ],
 "metadata": {
  "kernelspec": {
   "display_name": "Python 3 (ipykernel)",
   "language": "python",
   "name": "python3"
  },
  "language_info": {
   "codemirror_mode": {
    "name": "ipython",
    "version": 3
   },
   "file_extension": ".py",
   "mimetype": "text/x-python",
   "name": "python",
   "nbconvert_exporter": "python",
   "pygments_lexer": "ipython3",
   "version": "3.12.4"
  }
 },
 "nbformat": 4,
 "nbformat_minor": 5
}
