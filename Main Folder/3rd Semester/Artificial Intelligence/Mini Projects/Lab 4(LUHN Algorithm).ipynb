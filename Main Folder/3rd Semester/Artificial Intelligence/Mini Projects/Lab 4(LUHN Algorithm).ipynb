{
 "cells": [
  {
   "cell_type": "code",
   "execution_count": 42,
   "id": "403a5ba6-a2a5-45b5-aee6-558fdd4b7ab3",
   "metadata": {},
   "outputs": [
    {
     "name": "stdout",
     "output_type": "stream",
     "text": [
      "16\n"
     ]
    }
   ],
   "source": [
    "card_number=[4,7,8,2,7,8,0,0,0,1,6,1,6,4,0,1]\n",
    "print(len(card_number))"
   ]
  },
  {
   "cell_type": "code",
   "execution_count": 43,
   "id": "2befc6b1-2d91-4438-94bc-c53d36b379a1",
   "metadata": {},
   "outputs": [
    {
     "data": {
      "text/plain": [
       "[4, 7, 8, 2, 7, 8, 0, 0, 0, 1, 6, 1, 6, 4, 0, 1]"
      ]
     },
     "execution_count": 43,
     "metadata": {},
     "output_type": "execute_result"
    }
   ],
   "source": [
    "card_number"
   ]
  },
  {
   "cell_type": "code",
   "execution_count": 44,
   "id": "eb7e237f-52e5-4f01-9da9-3f1f05631bcb",
   "metadata": {},
   "outputs": [],
   "source": [
    "card_number=card_number[:-1]"
   ]
  },
  {
   "cell_type": "code",
   "execution_count": 45,
   "id": "0132a6ee-2ce5-4662-b83a-7bc1a11f1170",
   "metadata": {},
   "outputs": [
    {
     "data": {
      "text/plain": [
       "[4, 7, 8, 2, 7, 8, 0, 0, 0, 1, 6, 1, 6, 4, 0]"
      ]
     },
     "execution_count": 45,
     "metadata": {},
     "output_type": "execute_result"
    }
   ],
   "source": [
    "card_number"
   ]
  },
  {
   "cell_type": "code",
   "execution_count": 46,
   "id": "ff067a3a-3c2b-43d2-8bf8-e905869419eb",
   "metadata": {},
   "outputs": [],
   "source": [
    "card_number=card_number[::-1]"
   ]
  },
  {
   "cell_type": "code",
   "execution_count": 47,
   "id": "60ee9ec0-cb32-49a9-826f-d2346a661d64",
   "metadata": {},
   "outputs": [
    {
     "data": {
      "text/plain": [
       "[0, 4, 6, 1, 6, 1, 0, 0, 0, 8, 7, 2, 8, 7, 4]"
      ]
     },
     "execution_count": 47,
     "metadata": {},
     "output_type": "execute_result"
    }
   ],
   "source": [
    "card_number"
   ]
  },
  {
   "cell_type": "code",
   "execution_count": 48,
   "id": "ff461dce-0bc3-4f31-ae2c-5de897241f56",
   "metadata": {},
   "outputs": [
    {
     "name": "stdout",
     "output_type": "stream",
     "text": [
      "At Index 0,Original Value0 doubled to 0\n",
      "At Index 2,Original Value6 doubled to 12\n",
      "At Index 4,Original Value6 doubled to 12\n",
      "At Index 6,Original Value0 doubled to 0\n",
      "At Index 8,Original Value0 doubled to 0\n",
      "At Index 10,Original Value7 doubled to 14\n",
      "At Index 12,Original Value8 doubled to 16\n",
      "At Index 14,Original Value4 doubled to 8\n"
     ]
    }
   ],
   "source": [
    "for i in range(len(card_number)):\n",
    "    if i % 2 == 0:\n",
    "        original_value=card_number[i]\n",
    "        card_number[i] *=2\n",
    "        print(f\"At Index {i},Original Value{original_value} doubled to {card_number[i]}\")"
   ]
  },
  {
   "cell_type": "code",
   "execution_count": 49,
   "id": "46c4eaf2-6265-4cd7-95ea-c0d0684c358b",
   "metadata": {},
   "outputs": [
    {
     "name": "stdout",
     "output_type": "stream",
     "text": [
      "At Index 2, Original Value 12 Subtracted to 3\n",
      "At Index 4, Original Value 12 Subtracted to 3\n",
      "At Index 10, Original Value 14 Subtracted to 5\n",
      "At Index 12, Original Value 16 Subtracted to 7\n"
     ]
    }
   ],
   "source": [
    "for i in range(len(card_number)):\n",
    "    if card_number[i] > 9:\n",
    "        original_value=card_number[i]\n",
    "        card_number[i] -=9\n",
    "        print(f\"At Index {i}, Original Value {original_value} Subtracted to {card_number[i]}\")"
   ]
  },
  {
   "cell_type": "code",
   "execution_count": 50,
   "id": "eb38746f-efa9-4a31-8a83-af5896b39873",
   "metadata": {},
   "outputs": [
    {
     "name": "stdout",
     "output_type": "stream",
     "text": [
      "[0, 4, 3, 1, 3, 1, 0, 0, 0, 8, 5, 2, 7, 7, 8]\n"
     ]
    }
   ],
   "source": [
    "print(card_number)"
   ]
  },
  {
   "cell_type": "code",
   "execution_count": 51,
   "id": "a37038af-8b4a-4b16-bf93-fe3e11e3effa",
   "metadata": {},
   "outputs": [],
   "source": [
    "total_sum=sum(card_number)"
   ]
  },
  {
   "cell_type": "code",
   "execution_count": 52,
   "id": "d80b4657-c0ff-4a71-a656-0bf662b656c2",
   "metadata": {},
   "outputs": [
    {
     "name": "stdout",
     "output_type": "stream",
     "text": [
      "49\n"
     ]
    }
   ],
   "source": [
    "print(total_sum)"
   ]
  },
  {
   "cell_type": "code",
   "execution_count": 53,
   "id": "918b3bd2-ee6d-4d30-a825-f5ff286432e3",
   "metadata": {},
   "outputs": [
    {
     "name": "stdout",
     "output_type": "stream",
     "text": [
      "The card is Invalid!\n"
     ]
    }
   ],
   "source": [
    "if total_sum % 10 == 0:\n",
    "    print(\"The card is Valid!\")\n",
    "else:\n",
    "    print(\"The card is Invalid!\")"
   ]
  },
  {
   "cell_type": "code",
   "execution_count": null,
   "id": "a72ca3e3-5506-461b-9025-0a587870f6c9",
   "metadata": {},
   "outputs": [],
   "source": []
  }
 ],
 "metadata": {
  "kernelspec": {
   "display_name": "Python 3 (ipykernel)",
   "language": "python",
   "name": "python3"
  },
  "language_info": {
   "codemirror_mode": {
    "name": "ipython",
    "version": 3
   },
   "file_extension": ".py",
   "mimetype": "text/x-python",
   "name": "python",
   "nbconvert_exporter": "python",
   "pygments_lexer": "ipython3",
   "version": "3.12.4"
  }
 },
 "nbformat": 4,
 "nbformat_minor": 5
}
