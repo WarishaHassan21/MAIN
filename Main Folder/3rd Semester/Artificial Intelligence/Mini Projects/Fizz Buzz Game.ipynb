{
 "cells": [
  {
   "cell_type": "code",
   "execution_count": 2,
   "id": "2b70051f-a6cd-4895-b96b-de1e8ffd4789",
   "metadata": {},
   "outputs": [
    {
     "name": "stdout",
     "output_type": "stream",
     "text": [
      "------------------------------------Welcome to Fizz Buzz!---------------------------------------\n",
      "It is a Two player game.\n",
      "The rules of the game are: \n",
      "--> 'Both the players have two enter a number turn by turn'\n",
      "--> 'The previous number entered by each player will be added into there current entered number.'\n",
      "--> 'If the number is divisble by 3 'Fizz' will be called and the game will continue.'\n",
      "--> 'If the number is divisible by 5 'Buzz' will be called and the game will continue.'\n",
      "--> 'If the number is divisible by both 3 and 5 'Fizz Buzz ' is called and the game will end!'\n",
      "--> 'If the number is divisible by none the number will be shown.'\n",
      "       ---Good Luck!---\n"
     ]
    },
    {
     "name": "stdin",
     "output_type": "stream",
     "text": [
      "Enter a number for Player1:  5\n"
     ]
    },
    {
     "name": "stdout",
     "output_type": "stream",
     "text": [
      "Player 1: Buzz\n"
     ]
    },
    {
     "name": "stdin",
     "output_type": "stream",
     "text": [
      "Enter a number for Player2:  10\n"
     ]
    },
    {
     "name": "stdout",
     "output_type": "stream",
     "text": [
      "Player 2: Buzz\n"
     ]
    },
    {
     "name": "stdin",
     "output_type": "stream",
     "text": [
      "Enter a number for Player1:  10\n"
     ]
    },
    {
     "name": "stdout",
     "output_type": "stream",
     "text": [
      "Player 1: Fizz Buzz\n",
      "Player 2 wins!\n"
     ]
    }
   ],
   "source": [
    "def Rule(num):\n",
    "    if num % 3 == 0 and num % 5 == 0:\n",
    "        return \"Fizz Buzz\"\n",
    "    elif num % 3 == 0:\n",
    "        return \"Fizz\"\n",
    "    elif num % 5 == 0:\n",
    "        return \"Buzz\"\n",
    "    else:\n",
    "        return str(num)\n",
    "def fizz_buzz_game():\n",
    "    print(\"------------------------------------Welcome to Fizz Buzz!---------------------------------------\")\n",
    "    print(\"It is a Two player game.\")\n",
    "    print(\"The rules of the game are: \")\n",
    "    print(\"--> 'Both the players have two enter a number turn by turn'\")\n",
    "    print(\"--> 'The previous number entered by each player will be added into there current entered number.'\")\n",
    "    print(\"--> 'If the number is divisble by 3 'Fizz' will be called and the game will continue.'\")\n",
    "    print(\"--> 'If the number is divisible by 5 'Buzz' will be called and the game will continue.'\")\n",
    "    print(\"--> 'If the number is divisible by both 3 and 5 'Fizz Buzz ' is called and the game will end!'\")\n",
    "    print(\"--> 'If the number is divisible by none the number will be shown.'\")\n",
    "    print(\"       ---Good Luck!---\")\n",
    "\n",
    "    player1_score = 0\n",
    "    player2_score = 0\n",
    "    \n",
    "    while True:\n",
    "        player1 = int(input(\"Enter a number for Player1: \"))\n",
    "        player1_score +=player1\n",
    "        result=Rule(player1_score)\n",
    "        print(f\"Player 1: {result}\")\n",
    "\n",
    "        if result == \"Fizz Buzz\":\n",
    "            print(\"Player 2 wins!\")\n",
    "            break\n",
    "        player2 = int(input(\"Enter a number for Player2: \"))\n",
    "        player2_score+=player2\n",
    "        result=Rule(player2_score)\n",
    "        print(f\"Player 2: {result}\")\n",
    "\n",
    "        if result == \"Fizz Buzz\":\n",
    "            print(\"Player 1 wins!\")\n",
    "            break\n",
    "\n",
    "fizz_buzz_game()"
   ]
  },
  {
   "cell_type": "code",
   "execution_count": null,
   "id": "8dc0670f-6863-4bb4-b306-a1f9ed7da30b",
   "metadata": {},
   "outputs": [],
   "source": []
  }
 ],
 "metadata": {
  "kernelspec": {
   "display_name": "Python 3 (ipykernel)",
   "language": "python",
   "name": "python3"
  },
  "language_info": {
   "codemirror_mode": {
    "name": "ipython",
    "version": 3
   },
   "file_extension": ".py",
   "mimetype": "text/x-python",
   "name": "python",
   "nbconvert_exporter": "python",
   "pygments_lexer": "ipython3",
   "version": "3.12.4"
  }
 },
 "nbformat": 4,
 "nbformat_minor": 5
}
